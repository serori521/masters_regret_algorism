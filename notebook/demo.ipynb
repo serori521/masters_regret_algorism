{
 "cells": [
  {
   "cell_type": "markdown",
   "id": "026f8f3b",
   "metadata": {},
   "source": [
    "# Demo: Top-1 Driven MMR (差分更新)\n",
    "レポジトリの `src/` を読み込み、簡単なダミー入力で動作確認します。"
   ]
  },
  {
   "cell_type": "code",
   "execution_count": 1,
   "id": "71ba2f67",
   "metadata": {},
   "outputs": [],
   "source": [
    "import Pkg\n",
    "push!(LOAD_PATH, abspath(joinpath(pwd(), \"..\", \"src\")))\n",
    "using DataFrames, CSV"
   ]
  },
  {
   "cell_type": "code",
   "execution_count": 2,
   "id": "87236869",
   "metadata": {},
   "outputs": [],
   "source": [
    "include(joinpath(pwd(), \"..\", \"src\", \"calc_IPW.jl\"))\n",
    "include(joinpath(pwd(), \"..\", \"src\", \"module_regret.jl\"))\n",
    "using .RankChangeInterval"
   ]
  },
  {
   "cell_type": "code",
   "execution_count": 3,
   "id": "cfc44e01",
   "metadata": {},
   "outputs": [
    {
     "data": {
      "text/plain": [
       "(0.7692307692307692, 2.0)"
      ]
     },
     "metadata": {},
     "output_type": "display_data"
    }
   ],
   "source": [
    "# ダミーの効用行列（代替案A=5, 基準N=6）\n",
    "A, N = 5, 6\n",
    "utility = [rand() for _ in 1:(A*N)] |> x -> reshape(x, A, N)\n",
    "\n",
    "\n",
    "# ダミーの区間重み（L, R）。本番は file_operate.jl の読み込み関数を使用してください\n",
    "methodW = (L = fill(0.05, N), R = fill(0.25, N))\n",
    "\n",
    "\n",
    "tL, tR = find_optimal_trange(methodW.L, methodW.R)\n",
    "(tL, tR)"
   ]
  },
  {
   "cell_type": "code",
   "execution_count": 4,
   "id": "eee42cdd",
   "metadata": {},
   "outputs": [
    {
     "data": {
      "text/plain": [
       "3-element Vector{Float64}:\n",
       " 0.7692307692307692\n",
       " 1.4285714285714286\n",
       " 2.0"
      ]
     },
     "metadata": {},
     "output_type": "display_data"
    }
   ],
   "source": [
    "res = RankChangeInterval.analyze_all_alternatives_with_avail_space(utility, methodW, (tL, tR))\n",
    "res.change_points"
   ]
  },
  {
   "cell_type": "code",
   "execution_count": null,
   "id": "849ff116",
   "metadata": {},
   "outputs": [
    {
     "name": "stdout",
     "output_type": "stream",
     "text": [
      "CSV保存関数 (save_final_rank_changes_to_csv) を開始します。\n",
      "CSV保存関数: DataFrameが作成されました。行数: 3, 列数: 6\n",
      "CSVファイルを次の絶対パスに保存しようとしています: /workspaces/inulab_julia_devcontainer/notebook/rank_change_details.csv\n",
      "CSV.write を使用して書き込みを試みます...\n",
      "結果を /workspaces/inulab_julia_devcontainer/notebook/rank_change_details.csv に保存しました (CSV.write)。\n",
      "ファイル内容の最初の数行 (CSV.write):\n",
      "t_change_point,alt_1_rank,alt_2_rank,alt_3_rank,alt_4_rank,alt_5_rank\n",
      "0.7692307692307692,2,3,1,5,4\n",
      "1.4285714285714286,2,3,1,4,5\n",
      "2.0,2,3,1,5,4\n"
     ]
    },
    {
     "data": {
      "text/html": [
       "<div><div style = \"float: left;\"><span>3×6 DataFrame</span></div><div style = \"clear: both;\"></div></div><div class = \"data-frame\" style = \"overflow-x: scroll;\"><table class = \"data-frame\" style = \"margin-bottom: 6px;\"><thead><tr class = \"columnLabelRow\"><th class = \"stubheadLabel\" style = \"font-weight: bold; text-align: right;\">Row</th><th style = \"text-align: left;\">t_change_point</th><th style = \"text-align: left;\">alt_1_rank</th><th style = \"text-align: left;\">alt_2_rank</th><th style = \"text-align: left;\">alt_3_rank</th><th style = \"text-align: left;\">alt_4_rank</th><th style = \"text-align: left;\">alt_5_rank</th></tr><tr class = \"columnLabelRow\"><th class = \"stubheadLabel\" style = \"font-weight: bold; text-align: right;\"></th><th title = \"Float64\" style = \"text-align: left;\">Float64</th><th title = \"Int64\" style = \"text-align: left;\">Int64</th><th title = \"Int64\" style = \"text-align: left;\">Int64</th><th title = \"Int64\" style = \"text-align: left;\">Int64</th><th title = \"Int64\" style = \"text-align: left;\">Int64</th><th title = \"Int64\" style = \"text-align: left;\">Int64</th></tr></thead><tbody><tr class = \"dataRow\"><td class = \"rowLabel\" style = \"font-weight: bold; text-align: right;\">1</td><td style = \"text-align: right;\">0.769231</td><td style = \"text-align: right;\">2</td><td style = \"text-align: right;\">3</td><td style = \"text-align: right;\">1</td><td style = \"text-align: right;\">5</td><td style = \"text-align: right;\">4</td></tr><tr class = \"dataRow\"><td class = \"rowLabel\" style = \"font-weight: bold; text-align: right;\">2</td><td style = \"text-align: right;\">1.42857</td><td style = \"text-align: right;\">2</td><td style = \"text-align: right;\">3</td><td style = \"text-align: right;\">1</td><td style = \"text-align: right;\">4</td><td style = \"text-align: right;\">5</td></tr><tr class = \"dataRow\"><td class = \"rowLabel\" style = \"font-weight: bold; text-align: right;\">3</td><td style = \"text-align: right;\">2.0</td><td style = \"text-align: right;\">2</td><td style = \"text-align: right;\">3</td><td style = \"text-align: right;\">1</td><td style = \"text-align: right;\">5</td><td style = \"text-align: right;\">4</td></tr></tbody></table></div>"
      ],
      "text/latex": [
       "\\begin{tabular}{r|cccccc}\n",
       "\t& t\\_change\\_point & alt\\_1\\_rank & alt\\_2\\_rank & alt\\_3\\_rank & alt\\_4\\_rank & alt\\_5\\_rank\\\\\n",
       "\t\\hline\n",
       "\t& Float64 & Int64 & Int64 & Int64 & Int64 & Int64\\\\\n",
       "\t\\hline\n",
       "\t1 & 0.769231 & 2 & 3 & 1 & 5 & 4 \\\\\n",
       "\t2 & 1.42857 & 2 & 3 & 1 & 4 & 5 \\\\\n",
       "\t3 & 2.0 & 2 & 3 & 1 & 5 & 4 \\\\\n",
       "\\end{tabular}\n"
      ],
      "text/plain": [
       "\u001b[1m3×6 DataFrame\n",
       "\u001b[1m Row │\u001b[1m t_change_point \u001b[1m alt_1_rank \u001b[1m alt_2_rank \u001b[1m alt_3_rank \u001b[1m alt_4_rank \u001b[1m alt_5_r ⋯\n",
       "\u001b[1m     │\u001b[90m Float64        \u001b[90m Int64      \u001b[90m Int64      \u001b[90m Int64      \u001b[90m Int64      \u001b[90m Int64   ⋯\n",
       "─────┼──────────────────────────────────────────────────────────────────────────\n",
       "   1 │       0.769231           2           3           1           5          ⋯\n",
       "   2 │       1.42857            2           3           1           4\n",
       "   3 │       2.0                2           3           1           5\n",
       "\u001b[36m                                                                1 column omitted"
      ]
     },
     "metadata": {},
     "output_type": "display_data"
    }
   ],
   "source": [
    "df = RankChangeInterval.save_rank_changes_and_rankings_to_csv(res, joinpath(pwd(), \"rank_change_details.csv\"))\n",
    "first(df, 10)\n"
   ]
  }
 ],
 "metadata": {
  "kernelspec": {
   "display_name": "Julia 1.11.2",
   "language": "julia",
   "name": "julia-1.11"
  },
  "language_info": {
   "file_extension": ".jl",
   "mimetype": "application/julia",
   "name": "julia",
   "version": "1.11.2"
  }
 },
 "nbformat": 4,
 "nbformat_minor": 5
}
