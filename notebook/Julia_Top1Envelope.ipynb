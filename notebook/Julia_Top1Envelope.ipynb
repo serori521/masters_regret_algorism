{
 "cells": [
  {
   "cell_type": "markdown",
   "metadata": {},
   "source": [
    "# Julia Top-1 Envelope Demo\n",
    "Top-1 追跡の最小例。"
   ]
  },
  {
   "cell_type": "code",
   "execution_count": null,
   "metadata": {},
   "outputs": [],
   "source": [
    "include(\"src/module_regret.jl\")\n",
    "include(\"src/top1_envelope.jl\")\n",
    "using .RankChangeInterval, .Top1EnvelopeExt\n",
    "using Random\n",
    "n_alt = 5; n_crit = 6; rng = MersenneTwister(42)\n",
    "utility = randn(rng, n_alt, n_crit)\n",
    "matrix = create_minimax_R_Matrix(utility)\n",
    "struct MethodW; L::Vector{Float64}; R::Vector{Float64}; adjacent::Float64; end\n",
    "L = rand(rng, n_crit) .* 0.1 .+ 0.05; R = L .+ rand(rng, n_crit) .* 0.1 .+ 0.05\n",
    "methodW = MethodW(L,R,0.0)\n",
    "tL, tR = RankChangeInterval.find_optimal_trange(methodW.L, methodW.R)\n",
    "o_o = 1\n",
    "res = Top1EnvelopeExt.find_rank_change_points_top1_from_tR(o_o, tL, tR, matrix, methodW)\n",
    "res"
   ]
  }
 ],
 "metadata": {
  "kernelspec": {
   "display_name": "Julia 1.11.2",
   "language": "julia",
   "name": "julia-1.11"
  },
  "language_info": {
   "file_extension": ".jl",
   "mimetype": "application/julia",
   "name": "julia",
   "version": "1.11.2"
  }
 },
 "nbformat": 4,
 "nbformat_minor": 5
}
